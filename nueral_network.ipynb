{
 "cells": [
  {
   "cell_type": "markdown",
   "source": [
    "# Option Pricing and Stochastic Volatility using Neural Network"
   ],
   "metadata": {
    "collapsed": false
   }
  },
  {
   "cell_type": "markdown",
   "source": [
    "## Data Collection"
   ],
   "metadata": {
    "collapsed": false
   }
  },
  {
   "cell_type": "code",
   "execution_count": 22,
   "outputs": [
    {
     "name": "stdout",
     "output_type": "stream",
     "text": [
      "[*********************100%***********************]  1 of 1 completed\n",
      "                 Open       High        Low      Close  Adj Close  Volume\n",
      "Date                                                                     \n",
      "2022-07-26  28.320000  28.320000  28.320000  28.320000  27.413071       0\n",
      "2022-07-27  28.940001  28.940001  28.940001  28.940001  28.013220       0\n",
      "2022-07-28  29.120001  29.120001  29.120001  29.120001  28.187454       0\n",
      "2022-07-29  29.570000  29.570000  29.570000  29.570000  28.623041       0\n",
      "2022-08-01  29.490000  29.490000  29.490000  29.490000  28.545605       0\n",
      "...               ...        ...        ...        ...        ...     ...\n",
      "2023-07-19  33.790001  33.790001  33.790001  33.790001  33.790001       0\n",
      "2023-07-20  33.680000  33.680000  33.680000  33.680000  33.680000       0\n",
      "2023-07-21  33.770000  33.770000  33.770000  33.770000  33.770000       0\n",
      "2023-07-24  33.610001  33.610001  33.610001  33.610001  33.610001       0\n",
      "2023-07-25  33.750000  33.750000  33.750000  33.750000  33.750000       0\n",
      "\n",
      "[251 rows x 6 columns]\n"
     ]
    }
   ],
   "source": [
    "import pandas as pd\n",
    "from pandas_datareader import data as pdr\n",
    "import matplotlib.pyplot as plt\n",
    "import numpy as np\n",
    "import datetime\n",
    "import yfinance as yf\n",
    "\n",
    "yf.pdr_override()\n",
    "\n",
    "def get_historical_option_data(ticker: str, period: int):\n",
    "    today = datetime.date.today()\n",
    "    end_date = today.strftime('%Y-%m-%d')\n",
    "    start_date = datetime.datetime.now() - datetime.timedelta(days=period)\n",
    "    start_date = start_date.strftime('%Y-%m-%d')\n",
    "    option_data = pdr.get_data_yahoo(ticker, start_date, end_date)\n",
    "    return option_data\n",
    "\n",
    "print(get_historical_option_data('VESIX', 365))\n"
   ],
   "metadata": {
    "collapsed": false
   }
  },
  {
   "cell_type": "markdown",
   "source": [
    "## Data Cleaning"
   ],
   "metadata": {
    "collapsed": false
   }
  },
  {
   "cell_type": "markdown",
   "source": [
    "## Exploratory Data Analysis"
   ],
   "metadata": {
    "collapsed": false
   }
  },
  {
   "cell_type": "markdown",
   "source": [
    "## Data Pre-Processing"
   ],
   "metadata": {
    "collapsed": false
   }
  },
  {
   "cell_type": "markdown",
   "source": [
    "## Neural Network Implementation"
   ],
   "metadata": {
    "collapsed": false
   }
  },
  {
   "cell_type": "markdown",
   "source": [
    "## Network Training"
   ],
   "metadata": {
    "collapsed": false
   }
  },
  {
   "cell_type": "markdown",
   "source": [
    "## Testing And Analysis"
   ],
   "metadata": {
    "collapsed": false
   }
  },
  {
   "cell_type": "code",
   "execution_count": 22,
   "outputs": [],
   "source": [],
   "metadata": {
    "collapsed": false
   }
  }
 ],
 "metadata": {
  "kernelspec": {
   "display_name": "Python 3",
   "language": "python",
   "name": "python3"
  },
  "language_info": {
   "codemirror_mode": {
    "name": "ipython",
    "version": 2
   },
   "file_extension": ".py",
   "mimetype": "text/x-python",
   "name": "python",
   "nbconvert_exporter": "python",
   "pygments_lexer": "ipython2",
   "version": "2.7.6"
  }
 },
 "nbformat": 4,
 "nbformat_minor": 0
}
