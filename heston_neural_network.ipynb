{
 "cells": [
  {
   "cell_type": "markdown",
   "source": [
    "# Option Pricing and Stochastic Volatility using Neural Network"
   ],
   "metadata": {
    "collapsed": false
   }
  },
  {
   "cell_type": "markdown",
   "source": [
    "## Simulated Training Data Collection"
   ],
   "metadata": {
    "collapsed": false
   }
  },
  {
   "cell_type": "code",
   "execution_count": 23,
   "outputs": [],
   "source": [
    "m, n, T = 1000, 252, 1\n",
    "\n",
    "def eulers_discretion_simulation(s0: float, v0: float, kappa: float, theta: float, sigma: float, t: float, m: int, n: int, r: float) -> tuple:\n",
    "    \"\"\"\n",
    "    Inputs:\n",
    "     - s0, v0: Initial parameters for asset and variance.\n",
    "     - kappa: Rate of mean reversion in variance process.\n",
    "     - theta: Long-term mean of variance process.\n",
    "     - sigma: Vol of vol / volatility of variance process.\n",
    "     - T: Time of simulation.\n",
    "     - N: Number of time steps.\n",
    "     - M: Number of scenarios / simulations.\n",
    "     - R: Risk Free Rate\n",
    "    Outputs:\n",
    "     - S: Asset prices over time (array).\n",
    "     - V: Variance over time (array).\n",
    "    \"\"\"\n",
    "\n",
    "    dt = t / m\n",
    "    S = np.zeros((m, n + 1))\n",
    "    V = np.zeros((m, n + 1))\n",
    "    np.random.seed(1926159)\n",
    "    for i in range(m):\n",
    "        S[i, 0] = s0\n",
    "        V[i, 0] = v0\n",
    "        for j in range(1, n + 1):\n",
    "            Z1 = np.random.randn()\n",
    "            Z2 = np.random.randn()\n",
    "\n",
    "            dS = r * S[i, j - 1] * dt + np.sqrt(V[i, j - 1] * dt) * Z1\n",
    "            dV = kappa * (theta - V[i, j - 1]) * dt + sigma * np.sqrt(V[i, j - 1] * dt) * Z2\n",
    "\n",
    "            S[i, j] = S[i, j - 1] + dS\n",
    "            V[i, j] = V[i, j - 1] + dV\n",
    "\n",
    "    return S, V\n",
    "\n",
    "S, V = eulers_discretion_simulation(100, 0.1, 2.0, 0.1, 0.2, 1, 1000, 252, 0.05)"
   ],
   "metadata": {
    "collapsed": false
   }
  },
  {
   "cell_type": "markdown",
   "source": [
    "## Data Pre-Processing"
   ],
   "metadata": {
    "collapsed": false
   }
  },
  {
   "cell_type": "code",
   "execution_count": 24,
   "outputs": [],
   "source": [
    "import numpy as np\n",
    "\n",
    "def format_data(data: list, sequence_length: int) -> tuple:\n",
    "    \"\"\"\n",
    "    Inputs:\n",
    "    - data: Simulated Heston Data.\n",
    "    - sequence_length: Considered Time Steps.\n",
    "    Return:\n",
    "    - Testing and Training Data.\n",
    "    \"\"\"\n",
    "    x, y = [], []\n",
    "    for i in range(len(data) - sequence_length):\n",
    "        x.append(data[i:i+sequence_length])\n",
    "        y.append(data[i+sequence_length])\n",
    "    return np.array(x), np.array(y)"
   ],
   "metadata": {
    "collapsed": false
   }
  },
  {
   "cell_type": "code",
   "execution_count": 25,
   "outputs": [],
   "source": [
    "sequence_length = 10\n",
    "\n",
    "flat_S = S.flatten()\n",
    "flat_S = (flat_S - np.mean(flat_S)) / np.std(flat_S)\n",
    "\n",
    "split_ratio = 0.8\n",
    "split_index = int(len(flat_S) * split_ratio)\n",
    "\n",
    "train_data = flat_S[:split_index]\n",
    "test_data = flat_S[split_index:]\n",
    "\n",
    "x_train, y_train = format_data(train_data, sequence_length)\n",
    "x_test, y_test = format_data(test_data, sequence_length)"
   ],
   "metadata": {
    "collapsed": false
   }
  },
  {
   "cell_type": "markdown",
   "source": [
    "## Neural Network Implementation"
   ],
   "metadata": {
    "collapsed": false
   }
  },
  {
   "cell_type": "code",
   "execution_count": 26,
   "outputs": [],
   "source": [
    "from sklearn.neural_network import MLPRegressor\n",
    "\n",
    "model = MLPRegressor(\n",
    "    hidden_layer_sizes=(100,100,100,100),\n",
    "    solver='adam',\n",
    "    shuffle = False,\n",
    "    batch_size=64,\n",
    "    verbose=True,\n",
    "    max_iter= 25\n",
    ")"
   ],
   "metadata": {
    "collapsed": false
   }
  },
  {
   "cell_type": "markdown",
   "source": [
    "## Hyperparameter Tuning"
   ],
   "metadata": {
    "collapsed": false
   }
  },
  {
   "cell_type": "code",
   "execution_count": 27,
   "outputs": [
    {
     "name": "stderr",
     "output_type": "stream",
     "text": [
      "/Users/harvey/Documents/Portfolio/Option Pricing and Stochastic Volatility/environment/lib/python3.10/site-packages/sklearn/neural_network/_multilayer_perceptron.py:702: ConvergenceWarning: Stochastic Optimizer: Maximum iterations (25) reached and the optimization hasn't converged yet.\n",
      "  warnings.warn(\n",
      "/Users/harvey/Documents/Portfolio/Option Pricing and Stochastic Volatility/environment/lib/python3.10/site-packages/sklearn/neural_network/_multilayer_perceptron.py:702: ConvergenceWarning: Stochastic Optimizer: Maximum iterations (25) reached and the optimization hasn't converged yet.\n",
      "  warnings.warn(\n",
      "/Users/harvey/Documents/Portfolio/Option Pricing and Stochastic Volatility/environment/lib/python3.10/site-packages/sklearn/neural_network/_multilayer_perceptron.py:702: ConvergenceWarning: Stochastic Optimizer: Maximum iterations (25) reached and the optimization hasn't converged yet.\n",
      "  warnings.warn(\n"
     ]
    },
    {
     "name": "stdout",
     "output_type": "stream",
     "text": [
      "Iteration 1, loss = 0.03436561\n",
      "Iteration 2, loss = 0.02577214\n",
      "Iteration 3, loss = 0.02409512\n",
      "Iteration 4, loss = 0.02358996\n",
      "Iteration 5, loss = 0.02334735\n",
      "Iteration 6, loss = 0.02319992\n",
      "Iteration 7, loss = 0.02311617\n",
      "Iteration 8, loss = 0.02304726\n",
      "Iteration 9, loss = 0.02300418\n",
      "Iteration 10, loss = 0.02296550\n",
      "Iteration 11, loss = 0.02293039\n",
      "Iteration 12, loss = 0.02290741\n",
      "Iteration 13, loss = 0.02289680\n",
      "Iteration 14, loss = 0.02287996\n",
      "Iteration 15, loss = 0.02286594\n",
      "Iteration 16, loss = 0.02285808\n",
      "Iteration 17, loss = 0.02286069\n",
      "Training loss did not improve more than tol=0.000100 for 10 consecutive epochs. Stopping.\n"
     ]
    },
    {
     "data": {
      "text/plain": "GridSearchCV(cv=3,\n             estimator=MLPRegressor(batch_size=64,\n                                    hidden_layer_sizes=(100, 100, 100, 100),\n                                    max_iter=25, shuffle=False, verbose=True),\n             n_jobs=-1,\n             param_grid={'activation': ['tanh', 'relu'], 'alpha': [0.01, 0.05],\n                         'learning_rate': ['constant', 'adaptive']})",
      "text/html": "<style>#sk-container-id-2 {color: black;background-color: white;}#sk-container-id-2 pre{padding: 0;}#sk-container-id-2 div.sk-toggleable {background-color: white;}#sk-container-id-2 label.sk-toggleable__label {cursor: pointer;display: block;width: 100%;margin-bottom: 0;padding: 0.3em;box-sizing: border-box;text-align: center;}#sk-container-id-2 label.sk-toggleable__label-arrow:before {content: \"▸\";float: left;margin-right: 0.25em;color: #696969;}#sk-container-id-2 label.sk-toggleable__label-arrow:hover:before {color: black;}#sk-container-id-2 div.sk-estimator:hover label.sk-toggleable__label-arrow:before {color: black;}#sk-container-id-2 div.sk-toggleable__content {max-height: 0;max-width: 0;overflow: hidden;text-align: left;background-color: #f0f8ff;}#sk-container-id-2 div.sk-toggleable__content pre {margin: 0.2em;color: black;border-radius: 0.25em;background-color: #f0f8ff;}#sk-container-id-2 input.sk-toggleable__control:checked~div.sk-toggleable__content {max-height: 200px;max-width: 100%;overflow: auto;}#sk-container-id-2 input.sk-toggleable__control:checked~label.sk-toggleable__label-arrow:before {content: \"▾\";}#sk-container-id-2 div.sk-estimator input.sk-toggleable__control:checked~label.sk-toggleable__label {background-color: #d4ebff;}#sk-container-id-2 div.sk-label input.sk-toggleable__control:checked~label.sk-toggleable__label {background-color: #d4ebff;}#sk-container-id-2 input.sk-hidden--visually {border: 0;clip: rect(1px 1px 1px 1px);clip: rect(1px, 1px, 1px, 1px);height: 1px;margin: -1px;overflow: hidden;padding: 0;position: absolute;width: 1px;}#sk-container-id-2 div.sk-estimator {font-family: monospace;background-color: #f0f8ff;border: 1px dotted black;border-radius: 0.25em;box-sizing: border-box;margin-bottom: 0.5em;}#sk-container-id-2 div.sk-estimator:hover {background-color: #d4ebff;}#sk-container-id-2 div.sk-parallel-item::after {content: \"\";width: 100%;border-bottom: 1px solid gray;flex-grow: 1;}#sk-container-id-2 div.sk-label:hover label.sk-toggleable__label {background-color: #d4ebff;}#sk-container-id-2 div.sk-serial::before {content: \"\";position: absolute;border-left: 1px solid gray;box-sizing: border-box;top: 0;bottom: 0;left: 50%;z-index: 0;}#sk-container-id-2 div.sk-serial {display: flex;flex-direction: column;align-items: center;background-color: white;padding-right: 0.2em;padding-left: 0.2em;position: relative;}#sk-container-id-2 div.sk-item {position: relative;z-index: 1;}#sk-container-id-2 div.sk-parallel {display: flex;align-items: stretch;justify-content: center;background-color: white;position: relative;}#sk-container-id-2 div.sk-item::before, #sk-container-id-2 div.sk-parallel-item::before {content: \"\";position: absolute;border-left: 1px solid gray;box-sizing: border-box;top: 0;bottom: 0;left: 50%;z-index: -1;}#sk-container-id-2 div.sk-parallel-item {display: flex;flex-direction: column;z-index: 1;position: relative;background-color: white;}#sk-container-id-2 div.sk-parallel-item:first-child::after {align-self: flex-end;width: 50%;}#sk-container-id-2 div.sk-parallel-item:last-child::after {align-self: flex-start;width: 50%;}#sk-container-id-2 div.sk-parallel-item:only-child::after {width: 0;}#sk-container-id-2 div.sk-dashed-wrapped {border: 1px dashed gray;margin: 0 0.4em 0.5em 0.4em;box-sizing: border-box;padding-bottom: 0.4em;background-color: white;}#sk-container-id-2 div.sk-label label {font-family: monospace;font-weight: bold;display: inline-block;line-height: 1.2em;}#sk-container-id-2 div.sk-label-container {text-align: center;}#sk-container-id-2 div.sk-container {/* jupyter's `normalize.less` sets `[hidden] { display: none; }` but bootstrap.min.css set `[hidden] { display: none !important; }` so we also need the `!important` here to be able to override the default hidden behavior on the sphinx rendered scikit-learn.org. See: https://github.com/scikit-learn/scikit-learn/issues/21755 */display: inline-block !important;position: relative;}#sk-container-id-2 div.sk-text-repr-fallback {display: none;}</style><div id=\"sk-container-id-2\" class=\"sk-top-container\"><div class=\"sk-text-repr-fallback\"><pre>GridSearchCV(cv=3,\n             estimator=MLPRegressor(batch_size=64,\n                                    hidden_layer_sizes=(100, 100, 100, 100),\n                                    max_iter=25, shuffle=False, verbose=True),\n             n_jobs=-1,\n             param_grid={&#x27;activation&#x27;: [&#x27;tanh&#x27;, &#x27;relu&#x27;], &#x27;alpha&#x27;: [0.01, 0.05],\n                         &#x27;learning_rate&#x27;: [&#x27;constant&#x27;, &#x27;adaptive&#x27;]})</pre><b>In a Jupyter environment, please rerun this cell to show the HTML representation or trust the notebook. <br />On GitHub, the HTML representation is unable to render, please try loading this page with nbviewer.org.</b></div><div class=\"sk-container\" hidden><div class=\"sk-item sk-dashed-wrapped\"><div class=\"sk-label-container\"><div class=\"sk-label sk-toggleable\"><input class=\"sk-toggleable__control sk-hidden--visually\" id=\"sk-estimator-id-2\" type=\"checkbox\" ><label for=\"sk-estimator-id-2\" class=\"sk-toggleable__label sk-toggleable__label-arrow\">GridSearchCV</label><div class=\"sk-toggleable__content\"><pre>GridSearchCV(cv=3,\n             estimator=MLPRegressor(batch_size=64,\n                                    hidden_layer_sizes=(100, 100, 100, 100),\n                                    max_iter=25, shuffle=False, verbose=True),\n             n_jobs=-1,\n             param_grid={&#x27;activation&#x27;: [&#x27;tanh&#x27;, &#x27;relu&#x27;], &#x27;alpha&#x27;: [0.01, 0.05],\n                         &#x27;learning_rate&#x27;: [&#x27;constant&#x27;, &#x27;adaptive&#x27;]})</pre></div></div></div><div class=\"sk-parallel\"><div class=\"sk-parallel-item\"><div class=\"sk-item\"><div class=\"sk-label-container\"><div class=\"sk-label sk-toggleable\"><input class=\"sk-toggleable__control sk-hidden--visually\" id=\"sk-estimator-id-3\" type=\"checkbox\" ><label for=\"sk-estimator-id-3\" class=\"sk-toggleable__label sk-toggleable__label-arrow\">estimator: MLPRegressor</label><div class=\"sk-toggleable__content\"><pre>MLPRegressor(batch_size=64, hidden_layer_sizes=(100, 100, 100, 100),\n             max_iter=25, shuffle=False, verbose=True)</pre></div></div></div><div class=\"sk-serial\"><div class=\"sk-item\"><div class=\"sk-estimator sk-toggleable\"><input class=\"sk-toggleable__control sk-hidden--visually\" id=\"sk-estimator-id-4\" type=\"checkbox\" ><label for=\"sk-estimator-id-4\" class=\"sk-toggleable__label sk-toggleable__label-arrow\">MLPRegressor</label><div class=\"sk-toggleable__content\"><pre>MLPRegressor(batch_size=64, hidden_layer_sizes=(100, 100, 100, 100),\n             max_iter=25, shuffle=False, verbose=True)</pre></div></div></div></div></div></div></div></div></div></div>"
     },
     "execution_count": 27,
     "metadata": {},
     "output_type": "execute_result"
    }
   ],
   "source": [
    "from sklearn.model_selection import GridSearchCV\n",
    "\n",
    "model.get_params()\n",
    "\n",
    "parameter_space = {\n",
    "    'activation': ['tanh', 'relu'],\n",
    "    'alpha': [0.01, 0.05],\n",
    "    'learning_rate': ['constant','adaptive'],\n",
    "}\n",
    "\n",
    "clf = GridSearchCV(model, parameter_space, n_jobs=-1, cv=3)\n",
    "clf.fit(x_train, y_train)\n",
    "\n",
    "print('Best parameters found:\\n', clf.best_params_)"
   ],
   "metadata": {
    "collapsed": false
   }
  },
  {
   "cell_type": "markdown",
   "source": [
    "## Network Training"
   ],
   "metadata": {
    "collapsed": false
   }
  },
  {
   "cell_type": "code",
   "execution_count": 28,
   "outputs": [
    {
     "name": "stdout",
     "output_type": "stream",
     "text": [
      "Iteration 1, loss = 0.02485644\n",
      "Iteration 2, loss = 0.02307125\n",
      "Iteration 3, loss = 0.02279475\n",
      "Iteration 4, loss = 0.02264507\n",
      "Iteration 5, loss = 0.02254826\n",
      "Iteration 6, loss = 0.02245632\n",
      "Iteration 7, loss = 0.02241325\n",
      "Iteration 8, loss = 0.02235508\n",
      "Iteration 9, loss = 0.02230003\n",
      "Iteration 10, loss = 0.02225789\n",
      "Iteration 11, loss = 0.02222781\n",
      "Iteration 12, loss = 0.02221202\n",
      "Iteration 13, loss = 0.02219889\n",
      "Iteration 14, loss = 0.02217823\n",
      "Iteration 15, loss = 0.02216350\n",
      "Training loss did not improve more than tol=0.000100 for 10 consecutive epochs. Stopping.\n"
     ]
    },
    {
     "data": {
      "text/plain": "MLPRegressor(batch_size=64, hidden_layer_sizes=(100, 100, 100, 100),\n             max_iter=25, shuffle=False, verbose=True)",
      "text/html": "<style>#sk-container-id-3 {color: black;background-color: white;}#sk-container-id-3 pre{padding: 0;}#sk-container-id-3 div.sk-toggleable {background-color: white;}#sk-container-id-3 label.sk-toggleable__label {cursor: pointer;display: block;width: 100%;margin-bottom: 0;padding: 0.3em;box-sizing: border-box;text-align: center;}#sk-container-id-3 label.sk-toggleable__label-arrow:before {content: \"▸\";float: left;margin-right: 0.25em;color: #696969;}#sk-container-id-3 label.sk-toggleable__label-arrow:hover:before {color: black;}#sk-container-id-3 div.sk-estimator:hover label.sk-toggleable__label-arrow:before {color: black;}#sk-container-id-3 div.sk-toggleable__content {max-height: 0;max-width: 0;overflow: hidden;text-align: left;background-color: #f0f8ff;}#sk-container-id-3 div.sk-toggleable__content pre {margin: 0.2em;color: black;border-radius: 0.25em;background-color: #f0f8ff;}#sk-container-id-3 input.sk-toggleable__control:checked~div.sk-toggleable__content {max-height: 200px;max-width: 100%;overflow: auto;}#sk-container-id-3 input.sk-toggleable__control:checked~label.sk-toggleable__label-arrow:before {content: \"▾\";}#sk-container-id-3 div.sk-estimator input.sk-toggleable__control:checked~label.sk-toggleable__label {background-color: #d4ebff;}#sk-container-id-3 div.sk-label input.sk-toggleable__control:checked~label.sk-toggleable__label {background-color: #d4ebff;}#sk-container-id-3 input.sk-hidden--visually {border: 0;clip: rect(1px 1px 1px 1px);clip: rect(1px, 1px, 1px, 1px);height: 1px;margin: -1px;overflow: hidden;padding: 0;position: absolute;width: 1px;}#sk-container-id-3 div.sk-estimator {font-family: monospace;background-color: #f0f8ff;border: 1px dotted black;border-radius: 0.25em;box-sizing: border-box;margin-bottom: 0.5em;}#sk-container-id-3 div.sk-estimator:hover {background-color: #d4ebff;}#sk-container-id-3 div.sk-parallel-item::after {content: \"\";width: 100%;border-bottom: 1px solid gray;flex-grow: 1;}#sk-container-id-3 div.sk-label:hover label.sk-toggleable__label {background-color: #d4ebff;}#sk-container-id-3 div.sk-serial::before {content: \"\";position: absolute;border-left: 1px solid gray;box-sizing: border-box;top: 0;bottom: 0;left: 50%;z-index: 0;}#sk-container-id-3 div.sk-serial {display: flex;flex-direction: column;align-items: center;background-color: white;padding-right: 0.2em;padding-left: 0.2em;position: relative;}#sk-container-id-3 div.sk-item {position: relative;z-index: 1;}#sk-container-id-3 div.sk-parallel {display: flex;align-items: stretch;justify-content: center;background-color: white;position: relative;}#sk-container-id-3 div.sk-item::before, #sk-container-id-3 div.sk-parallel-item::before {content: \"\";position: absolute;border-left: 1px solid gray;box-sizing: border-box;top: 0;bottom: 0;left: 50%;z-index: -1;}#sk-container-id-3 div.sk-parallel-item {display: flex;flex-direction: column;z-index: 1;position: relative;background-color: white;}#sk-container-id-3 div.sk-parallel-item:first-child::after {align-self: flex-end;width: 50%;}#sk-container-id-3 div.sk-parallel-item:last-child::after {align-self: flex-start;width: 50%;}#sk-container-id-3 div.sk-parallel-item:only-child::after {width: 0;}#sk-container-id-3 div.sk-dashed-wrapped {border: 1px dashed gray;margin: 0 0.4em 0.5em 0.4em;box-sizing: border-box;padding-bottom: 0.4em;background-color: white;}#sk-container-id-3 div.sk-label label {font-family: monospace;font-weight: bold;display: inline-block;line-height: 1.2em;}#sk-container-id-3 div.sk-label-container {text-align: center;}#sk-container-id-3 div.sk-container {/* jupyter's `normalize.less` sets `[hidden] { display: none; }` but bootstrap.min.css set `[hidden] { display: none !important; }` so we also need the `!important` here to be able to override the default hidden behavior on the sphinx rendered scikit-learn.org. See: https://github.com/scikit-learn/scikit-learn/issues/21755 */display: inline-block !important;position: relative;}#sk-container-id-3 div.sk-text-repr-fallback {display: none;}</style><div id=\"sk-container-id-3\" class=\"sk-top-container\"><div class=\"sk-text-repr-fallback\"><pre>MLPRegressor(batch_size=64, hidden_layer_sizes=(100, 100, 100, 100),\n             max_iter=25, shuffle=False, verbose=True)</pre><b>In a Jupyter environment, please rerun this cell to show the HTML representation or trust the notebook. <br />On GitHub, the HTML representation is unable to render, please try loading this page with nbviewer.org.</b></div><div class=\"sk-container\" hidden><div class=\"sk-item\"><div class=\"sk-estimator sk-toggleable\"><input class=\"sk-toggleable__control sk-hidden--visually\" id=\"sk-estimator-id-5\" type=\"checkbox\" checked><label for=\"sk-estimator-id-5\" class=\"sk-toggleable__label sk-toggleable__label-arrow\">MLPRegressor</label><div class=\"sk-toggleable__content\"><pre>MLPRegressor(batch_size=64, hidden_layer_sizes=(100, 100, 100, 100),\n             max_iter=25, shuffle=False, verbose=True)</pre></div></div></div></div></div>"
     },
     "execution_count": 28,
     "metadata": {},
     "output_type": "execute_result"
    }
   ],
   "source": [
    "import random\n",
    "random.seed(1926159)\n",
    "\n",
    "model.fit(x_train, y_train)"
   ],
   "metadata": {
    "collapsed": false
   }
  },
  {
   "cell_type": "code",
   "execution_count": 29,
   "outputs": [],
   "source": [
    "import pickle\n",
    "\n",
    "filename = 'neural_network_model.sav'\n",
    "pickle.dump(model, open(filename, 'wb'))"
   ],
   "metadata": {
    "collapsed": false
   }
  },
  {
   "cell_type": "code",
   "execution_count": 30,
   "outputs": [],
   "source": [
    "filename = 'neural_network_model.sav'\n",
    "model = pickle.load(open(filename, 'rb'))"
   ],
   "metadata": {
    "collapsed": false
   }
  },
  {
   "cell_type": "markdown",
   "source": [
    "## Monte Carlo Simulation"
   ],
   "metadata": {
    "collapsed": false
   }
  },
  {
   "cell_type": "code",
   "execution_count": 32,
   "outputs": [
    {
     "ename": "ValueError",
     "evalue": "Found input variables with inconsistent numbers of samples: [50590, 50441]",
     "output_type": "error",
     "traceback": [
      "\u001B[0;31m---------------------------------------------------------------------------\u001B[0m",
      "\u001B[0;31mValueError\u001B[0m                                Traceback (most recent call last)",
      "Cell \u001B[0;32mIn[32], line 18\u001B[0m\n\u001B[1;32m     14\u001B[0m test_data \u001B[38;5;241m=\u001B[39m flat_S[split_index:]\n\u001B[1;32m     16\u001B[0m x_predicted, y_predicted \u001B[38;5;241m=\u001B[39m format_data(test_data, sequence_length)\n\u001B[0;32m---> 18\u001B[0m \u001B[38;5;28mprint\u001B[39m(\u001B[43mperformance_analysis\u001B[49m\u001B[43m(\u001B[49m\u001B[43my_test\u001B[49m\u001B[43m,\u001B[49m\u001B[43m \u001B[49m\u001B[43my_predicted\u001B[49m\u001B[43m)\u001B[49m)\n",
      "Cell \u001B[0;32mIn[31], line 15\u001B[0m, in \u001B[0;36mperformance_analysis\u001B[0;34m(true, predicted)\u001B[0m\n\u001B[1;32m      7\u001B[0m \u001B[38;5;28;01mdef\u001B[39;00m \u001B[38;5;21mperformance_analysis\u001B[39m(true: \u001B[38;5;28mlist\u001B[39m, predicted: \u001B[38;5;28mlist\u001B[39m):\n\u001B[1;32m      8\u001B[0m \u001B[38;5;250m    \u001B[39m\u001B[38;5;124;03m\"\"\"\u001B[39;00m\n\u001B[1;32m      9\u001B[0m \u001B[38;5;124;03m    Inputs:\u001B[39;00m\n\u001B[1;32m     10\u001B[0m \u001B[38;5;124;03m    - true: The real value.\u001B[39;00m\n\u001B[0;32m   (...)\u001B[0m\n\u001B[1;32m     13\u001B[0m \u001B[38;5;124;03m    - Results Data Frame.\u001B[39;00m\n\u001B[1;32m     14\u001B[0m \u001B[38;5;124;03m    \"\"\"\u001B[39;00m\n\u001B[0;32m---> 15\u001B[0m     mse \u001B[38;5;241m=\u001B[39m \u001B[43mmean_squared_error\u001B[49m\u001B[43m(\u001B[49m\u001B[43mtrue\u001B[49m\u001B[43m,\u001B[49m\u001B[43m \u001B[49m\u001B[43mpredicted\u001B[49m\u001B[43m)\u001B[49m\n\u001B[1;32m     16\u001B[0m     rmse \u001B[38;5;241m=\u001B[39m sqrt(mse)\n\u001B[1;32m     17\u001B[0m     mae \u001B[38;5;241m=\u001B[39m mean_absolute_error(true, predicted)\n",
      "File \u001B[0;32m~/Documents/Portfolio/Option Pricing and Stochastic Volatility/environment/lib/python3.10/site-packages/sklearn/metrics/_regression.py:442\u001B[0m, in \u001B[0;36mmean_squared_error\u001B[0;34m(y_true, y_pred, sample_weight, multioutput, squared)\u001B[0m\n\u001B[1;32m    382\u001B[0m \u001B[38;5;28;01mdef\u001B[39;00m \u001B[38;5;21mmean_squared_error\u001B[39m(\n\u001B[1;32m    383\u001B[0m     y_true, y_pred, \u001B[38;5;241m*\u001B[39m, sample_weight\u001B[38;5;241m=\u001B[39m\u001B[38;5;28;01mNone\u001B[39;00m, multioutput\u001B[38;5;241m=\u001B[39m\u001B[38;5;124m\"\u001B[39m\u001B[38;5;124muniform_average\u001B[39m\u001B[38;5;124m\"\u001B[39m, squared\u001B[38;5;241m=\u001B[39m\u001B[38;5;28;01mTrue\u001B[39;00m\n\u001B[1;32m    384\u001B[0m ):\n\u001B[1;32m    385\u001B[0m \u001B[38;5;250m    \u001B[39m\u001B[38;5;124;03m\"\"\"Mean squared error regression loss.\u001B[39;00m\n\u001B[1;32m    386\u001B[0m \n\u001B[1;32m    387\u001B[0m \u001B[38;5;124;03m    Read more in the :ref:`User Guide <mean_squared_error>`.\u001B[39;00m\n\u001B[0;32m   (...)\u001B[0m\n\u001B[1;32m    440\u001B[0m \u001B[38;5;124;03m    0.825...\u001B[39;00m\n\u001B[1;32m    441\u001B[0m \u001B[38;5;124;03m    \"\"\"\u001B[39;00m\n\u001B[0;32m--> 442\u001B[0m     y_type, y_true, y_pred, multioutput \u001B[38;5;241m=\u001B[39m \u001B[43m_check_reg_targets\u001B[49m\u001B[43m(\u001B[49m\n\u001B[1;32m    443\u001B[0m \u001B[43m        \u001B[49m\u001B[43my_true\u001B[49m\u001B[43m,\u001B[49m\u001B[43m \u001B[49m\u001B[43my_pred\u001B[49m\u001B[43m,\u001B[49m\u001B[43m \u001B[49m\u001B[43mmultioutput\u001B[49m\n\u001B[1;32m    444\u001B[0m \u001B[43m    \u001B[49m\u001B[43m)\u001B[49m\n\u001B[1;32m    445\u001B[0m     check_consistent_length(y_true, y_pred, sample_weight)\n\u001B[1;32m    446\u001B[0m     output_errors \u001B[38;5;241m=\u001B[39m np\u001B[38;5;241m.\u001B[39maverage((y_true \u001B[38;5;241m-\u001B[39m y_pred) \u001B[38;5;241m*\u001B[39m\u001B[38;5;241m*\u001B[39m \u001B[38;5;241m2\u001B[39m, axis\u001B[38;5;241m=\u001B[39m\u001B[38;5;241m0\u001B[39m, weights\u001B[38;5;241m=\u001B[39msample_weight)\n",
      "File \u001B[0;32m~/Documents/Portfolio/Option Pricing and Stochastic Volatility/environment/lib/python3.10/site-packages/sklearn/metrics/_regression.py:100\u001B[0m, in \u001B[0;36m_check_reg_targets\u001B[0;34m(y_true, y_pred, multioutput, dtype)\u001B[0m\n\u001B[1;32m     66\u001B[0m \u001B[38;5;28;01mdef\u001B[39;00m \u001B[38;5;21m_check_reg_targets\u001B[39m(y_true, y_pred, multioutput, dtype\u001B[38;5;241m=\u001B[39m\u001B[38;5;124m\"\u001B[39m\u001B[38;5;124mnumeric\u001B[39m\u001B[38;5;124m\"\u001B[39m):\n\u001B[1;32m     67\u001B[0m \u001B[38;5;250m    \u001B[39m\u001B[38;5;124;03m\"\"\"Check that y_true and y_pred belong to the same regression task.\u001B[39;00m\n\u001B[1;32m     68\u001B[0m \n\u001B[1;32m     69\u001B[0m \u001B[38;5;124;03m    Parameters\u001B[39;00m\n\u001B[0;32m   (...)\u001B[0m\n\u001B[1;32m     98\u001B[0m \u001B[38;5;124;03m        correct keyword.\u001B[39;00m\n\u001B[1;32m     99\u001B[0m \u001B[38;5;124;03m    \"\"\"\u001B[39;00m\n\u001B[0;32m--> 100\u001B[0m     \u001B[43mcheck_consistent_length\u001B[49m\u001B[43m(\u001B[49m\u001B[43my_true\u001B[49m\u001B[43m,\u001B[49m\u001B[43m \u001B[49m\u001B[43my_pred\u001B[49m\u001B[43m)\u001B[49m\n\u001B[1;32m    101\u001B[0m     y_true \u001B[38;5;241m=\u001B[39m check_array(y_true, ensure_2d\u001B[38;5;241m=\u001B[39m\u001B[38;5;28;01mFalse\u001B[39;00m, dtype\u001B[38;5;241m=\u001B[39mdtype)\n\u001B[1;32m    102\u001B[0m     y_pred \u001B[38;5;241m=\u001B[39m check_array(y_pred, ensure_2d\u001B[38;5;241m=\u001B[39m\u001B[38;5;28;01mFalse\u001B[39;00m, dtype\u001B[38;5;241m=\u001B[39mdtype)\n",
      "File \u001B[0;32m~/Documents/Portfolio/Option Pricing and Stochastic Volatility/environment/lib/python3.10/site-packages/sklearn/utils/validation.py:383\u001B[0m, in \u001B[0;36mcheck_consistent_length\u001B[0;34m(*arrays)\u001B[0m\n\u001B[1;32m    381\u001B[0m uniques \u001B[38;5;241m=\u001B[39m np\u001B[38;5;241m.\u001B[39munique(lengths)\n\u001B[1;32m    382\u001B[0m \u001B[38;5;28;01mif\u001B[39;00m \u001B[38;5;28mlen\u001B[39m(uniques) \u001B[38;5;241m>\u001B[39m \u001B[38;5;241m1\u001B[39m:\n\u001B[0;32m--> 383\u001B[0m     \u001B[38;5;28;01mraise\u001B[39;00m \u001B[38;5;167;01mValueError\u001B[39;00m(\n\u001B[1;32m    384\u001B[0m         \u001B[38;5;124m\"\u001B[39m\u001B[38;5;124mFound input variables with inconsistent numbers of samples: \u001B[39m\u001B[38;5;132;01m%r\u001B[39;00m\u001B[38;5;124m\"\u001B[39m\n\u001B[1;32m    385\u001B[0m         \u001B[38;5;241m%\u001B[39m [\u001B[38;5;28mint\u001B[39m(l) \u001B[38;5;28;01mfor\u001B[39;00m l \u001B[38;5;129;01min\u001B[39;00m lengths]\n\u001B[1;32m    386\u001B[0m     )\n",
      "\u001B[0;31mValueError\u001B[0m: Found input variables with inconsistent numbers of samples: [50590, 50441]"
     ]
    }
   ],
   "source": [
    "from heston_monte_carlo import heston_model_monte_carlo_simulation\n",
    "\n",
    "S, V = heston_model_monte_carlo_simulation(100, 0.1, 0, 2.0, 0.1, 0.2, 1, 1000, 252)\n",
    "\n",
    "sequence_length = 10\n",
    "\n",
    "flat_S = S.flatten()\n",
    "flat_S = (flat_S - np.mean(flat_S)) / np.std(flat_S)\n",
    "\n",
    "split_ratio = 0.8\n",
    "split_index = int(len(flat_S) * split_ratio)\n",
    "\n",
    "train_data = flat_S[:split_index]\n",
    "test_data = flat_S[split_index:]\n",
    "\n",
    "x_predicted, monte_carlo_y_predicted = format_data(test_data, sequence_length)"
   ],
   "metadata": {
    "collapsed": false
   }
  },
  {
   "cell_type": "markdown",
   "source": [
    "## Testing And Analysis"
   ],
   "metadata": {
    "collapsed": false
   }
  },
  {
   "cell_type": "code",
   "execution_count": null,
   "outputs": [],
   "source": [
    "from sklearn.metrics import mean_squared_error, mean_absolute_error, r2_score\n",
    "from math import sqrt\n",
    "import pandas as pd\n",
    "\n",
    "neural_network_y_predicted = model.predict(x_test)\n",
    "\n",
    "def performance_analysis(true: list, predicted: list):\n",
    "    \"\"\"\n",
    "    Inputs:\n",
    "    - true: The real value.\n",
    "    - predicted: The model predicted value.\n",
    "    Return:\n",
    "    - Results Data Frame.\n",
    "    \"\"\"\n",
    "    mse = mean_squared_error(true, predicted)\n",
    "    rmse = sqrt(mse)\n",
    "    mae = mean_absolute_error(true, predicted)\n",
    "    r2 = r2_score(true, predicted)\n",
    "    df = {'Mean Squared Error': [mse], 'Root Mean Squared Error': [rmse], 'Mean Absolute Error': [mae], 'R2 Score': [r2]}\n",
    "    return pd.DataFrame(data=df)"
   ],
   "metadata": {
    "collapsed": false,
    "pycharm": {
     "is_executing": true
    }
   }
  },
  {
   "cell_type": "code",
   "execution_count": null,
   "outputs": [],
   "source": [
    "print(\"Monte Carlo Results:\")\n",
    "print(performance_analysis(y_test, monte_carlo_y_predicted))\n",
    "print(\"Neural Network Results:\")\n",
    "print(performance_analysis(y_test, neural_network_y_predicted))"
   ],
   "metadata": {
    "collapsed": false
   }
  }
 ],
 "metadata": {
  "kernelspec": {
   "display_name": "Python 3",
   "language": "python",
   "name": "python3"
  },
  "language_info": {
   "codemirror_mode": {
    "name": "ipython",
    "version": 2
   },
   "file_extension": ".py",
   "mimetype": "text/x-python",
   "name": "python",
   "nbconvert_exporter": "python",
   "pygments_lexer": "ipython2",
   "version": "2.7.6"
  }
 },
 "nbformat": 4,
 "nbformat_minor": 0
}
