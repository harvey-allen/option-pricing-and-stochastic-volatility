{
 "cells": [
  {
   "cell_type": "markdown",
   "source": [
    "# Option Pricing and Stochastic Volatility using Neural Network"
   ],
   "metadata": {
    "collapsed": false
   }
  },
  {
   "cell_type": "markdown",
   "source": [
    "## Data Collection"
   ],
   "metadata": {
    "collapsed": false
   }
  },
  {
   "cell_type": "code",
   "execution_count": 4,
   "outputs": [
    {
     "name": "stdout",
     "output_type": "stream",
     "text": [
      "[*********************100%***********************]  1 of 1 completed\n",
      "                 Open       High        Low      Close  Adj Close  Volume\n",
      "Date                                                                     \n",
      "2010-01-04  26.629999  26.629999  26.629999  26.629999  16.558065       0\n",
      "2010-01-05  26.580000  26.580000  26.580000  26.580000  16.526979       0\n",
      "2010-01-06  26.639999  26.639999  26.639999  26.639999  16.564283       0\n",
      "2010-01-07  26.540001  26.540001  26.540001  26.540001  16.502108       0\n",
      "2010-01-08  26.820000  26.820000  26.820000  26.820000  16.676203       0\n",
      "...               ...        ...        ...        ...        ...     ...\n",
      "2019-12-24  30.990000  30.990000  30.990000  30.990000  27.743664       0\n",
      "2019-12-26  31.080000  31.080000  31.080000  31.080000  27.824238       0\n",
      "2019-12-27  31.260000  31.260000  31.260000  31.260000  27.985382       0\n",
      "2019-12-30  31.049999  31.049999  31.049999  31.049999  27.797382       0\n",
      "2019-12-31  31.170000  31.170000  31.170000  31.170000  27.904812       0\n",
      "\n",
      "[2516 rows x 6 columns]\n"
     ]
    }
   ],
   "source": [
    "from pandas_datareader import data as pdr\n",
    "import yfinance as yf\n",
    "\n",
    "yf.pdr_override()\n",
    "\n",
    "european_index = pdr.get_data_yahoo('VESIX', '2020-01-01', '2021-01-01')\n",
    "print(european_index)"
   ],
   "metadata": {
    "collapsed": false
   }
  },
  {
   "cell_type": "markdown",
   "source": [
    "## Data Cleaning"
   ],
   "metadata": {
    "collapsed": false
   }
  },
  {
   "cell_type": "code",
   "execution_count": 5,
   "outputs": [
    {
     "name": "stdout",
     "output_type": "stream",
     "text": [
      "Date\n",
      "2010-01-04    26.629999\n",
      "2010-01-05    26.580000\n",
      "2010-01-06    26.639999\n",
      "2010-01-07    26.540001\n",
      "2010-01-08    26.820000\n",
      "                ...    \n",
      "2019-12-24    30.990000\n",
      "2019-12-26    31.080000\n",
      "2019-12-27    31.260000\n",
      "2019-12-30    31.049999\n",
      "2019-12-31    31.170000\n",
      "Name: Close, Length: 2516, dtype: float64\n"
     ]
    }
   ],
   "source": [
    "from sklearn.model_selection import train_test_split\n",
    "import pandas as pd\n"
   ],
   "metadata": {
    "collapsed": false
   }
  },
  {
   "cell_type": "markdown",
   "source": [
    "## Exploratory Data Analysis"
   ],
   "metadata": {
    "collapsed": false
   }
  },
  {
   "cell_type": "code",
   "execution_count": null,
   "outputs": [],
   "source": [
    "import matplotlib.pyplot as plt\n",
    "\n"
   ],
   "metadata": {
    "collapsed": false
   }
  },
  {
   "cell_type": "markdown",
   "source": [
    "## Data Pre-Processing"
   ],
   "metadata": {
    "collapsed": false
   }
  },
  {
   "cell_type": "code",
   "execution_count": null,
   "outputs": [],
   "source": [],
   "metadata": {
    "collapsed": false
   }
  },
  {
   "cell_type": "markdown",
   "source": [
    "## Neural Network Implementation"
   ],
   "metadata": {
    "collapsed": false
   }
  },
  {
   "cell_type": "code",
   "execution_count": 1,
   "outputs": [],
   "source": [
    "from sklearn.neural_network import MLPRegressor\n",
    "\n",
    "mlp = MLPRegressor(\n",
    "    hidden_layer_sizes=(100,100,100,100),\n",
    "    solver='adam',\n",
    "    shuffle = False,\n",
    "    batch_size=64,\n",
    "    verbose=True,\n",
    "    max_iter= 25\n",
    ")"
   ],
   "metadata": {
    "collapsed": false
   }
  },
  {
   "cell_type": "markdown",
   "source": [
    "## Network Training"
   ],
   "metadata": {
    "collapsed": false
   }
  },
  {
   "cell_type": "code",
   "execution_count": null,
   "outputs": [],
   "source": [
    "\n",
    "\n"
   ],
   "metadata": {
    "collapsed": false
   }
  },
  {
   "cell_type": "markdown",
   "source": [
    "## Testing And Analysis"
   ],
   "metadata": {
    "collapsed": false
   }
  },
  {
   "cell_type": "code",
   "execution_count": null,
   "outputs": [],
   "source": [
    "import pickle\n"
   ],
   "metadata": {
    "collapsed": false
   }
  },
  {
   "cell_type": "code",
   "execution_count": 22,
   "outputs": [],
   "source": [
    "from sklearn.metrics import mean_squared_error, r2_score\n",
    "from scipy import stats\n"
   ],
   "metadata": {
    "collapsed": false
   }
  },
  {
   "cell_type": "code",
   "execution_count": null,
   "outputs": [],
   "source": [
    "from heston_monte_carlo import heston_model_monte_carlo_simulation\n",
    "\n"
   ],
   "metadata": {
    "collapsed": false
   }
  }
 ],
 "metadata": {
  "kernelspec": {
   "display_name": "Python 3",
   "language": "python",
   "name": "python3"
  },
  "language_info": {
   "codemirror_mode": {
    "name": "ipython",
    "version": 2
   },
   "file_extension": ".py",
   "mimetype": "text/x-python",
   "name": "python",
   "nbconvert_exporter": "python",
   "pygments_lexer": "ipython2",
   "version": "2.7.6"
  }
 },
 "nbformat": 4,
 "nbformat_minor": 0
}
